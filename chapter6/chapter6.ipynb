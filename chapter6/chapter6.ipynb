{
 "cells": [
  {
   "cell_type": "code",
   "execution_count": 1,
   "metadata": {},
   "outputs": [],
   "source": [
    "import numpy as np"
   ]
  },
  {
   "cell_type": "markdown",
   "metadata": {},
   "source": [
    "$$\\bold{W}\\leftarrow \\bold{W}-\\eta\\frac{\\partial L}{\\partial \\bold{W}}$$\n"
   ]
  },
  {
   "cell_type": "code",
   "execution_count": null,
   "metadata": {},
   "outputs": [],
   "source": [
    "# SGD - stochaostic gradient descent - 随机梯度下降\n",
    "class SGD:\n",
    "    def __init__(self, lr=0.01):\n",
    "        self.lr = lr\n",
    "    \n",
    "    def update(self, params, grads):\n",
    "        for key in params.keys():\n",
    "            params[key] -= self.lr * grads[key]"
   ]
  },
  {
   "cell_type": "markdown",
   "metadata": {},
   "source": [
    "$$\n",
    "\\bold{v} \\leftarrow \\alpha \\bold{v} - \\eta\\frac{\\partial L}{\\partial \\bold{W}}\n",
    "$$\n",
    "$$\n",
    "\\bold{W} \\leftarrow \\bold{W} + \\bold{v}\n",
    "$$"
   ]
  },
  {
   "cell_type": "code",
   "execution_count": 2,
   "metadata": {},
   "outputs": [],
   "source": [
    "# Momentum - 梯度表现为“加速度”，通过速度v来改变权重\n",
    "\n",
    "class Momentum:\n",
    "    def __init__(self, lr=0.01, alpha=0.9):\n",
    "        self.lr = lr\n",
    "        self.alpha = alpha  # alpha 通常 在0～1之间，表示自然界中由于阻力，速度会慢慢变为0\n",
    "        self.v = None\n",
    "    \n",
    "    def update(self, params, grads):\n",
    "        if self.v is None:\n",
    "            self.v = {}\n",
    "            for key, val in params.items():\n",
    "                self.v[key] = np.zeros_like(val)  # 为不同层的参数分配速度v数组\n",
    "        for key in params.keys():\n",
    "            self.v[key] = self.alpha * self.v[key] - self.lr * grads[key]\n",
    "            params[key] += self.v[key]"
   ]
  },
  {
   "cell_type": "code",
   "execution_count": 6,
   "metadata": {},
   "outputs": [
    {
     "data": {
      "text/plain": [
       "(array([[1.        , 0.5       ],\n",
       "        [0.33333333, 0.25      ]]),\n",
       " array([[1., 1.],\n",
       "        [1., 1.]]))"
      ]
     },
     "execution_count": 6,
     "metadata": {},
     "output_type": "execute_result"
    }
   ],
   "source": [
    "a = np.array([[1, 2], [3, 4]])\n",
    "1 / a, a / a"
   ]
  },
  {
   "cell_type": "markdown",
   "metadata": {},
   "source": [
    "$$\n",
    "\\bold{h} \\leftarrow \\bold{h} + \\frac{\\partial L}{\\partial \\bold W} \\odot \\frac{\\partial L}{\\partial \\bold W}\n",
    "$$\n",
    "$$\n",
    "\\bold{W} \\leftarrow \\bold{W} - \\frac{1}{\\sqrt{\\bold h}} \\odot \\eta\\frac{\\partial L}{\\partial \\bold W}\n",
    "$$"
   ]
  },
  {
   "cell_type": "code",
   "execution_count": 1,
   "metadata": {},
   "outputs": [],
   "source": [
    "class AdaGrad:\n",
    "    def __init__(self, lr=0.01):\n",
    "        self.lr = lr\n",
    "        self.h = None\n",
    "    \n",
    "    def update(self, params, grads):\n",
    "        if self.h is None:\n",
    "            self.h = {}\n",
    "            for key, val in params.items():\n",
    "                self.h[key] = np.zeros_like(val)\n",
    "        \n",
    "        for key in params.keys():\n",
    "            self.h[key] += grads[key] * grads[key]\n",
    "            params[key] -= self.lr *grads[key] * (self.h[key] + 1e-7)  # 1e - 7 防止h的分母过小，出现NAN"
   ]
  },
  {
   "cell_type": "code",
   "execution_count": 2,
   "metadata": {},
   "outputs": [],
   "source": [
    "# 隐藏层的激活值分布(sigmoid)\n",
    "\n",
    "import numpy as np\n",
    "import matplotlib.pyplot as plt\n",
    "\n",
    "def sigmoid(x):\n",
    "    return 1 / (1 + np.exp(-x))\n",
    "\n",
    "x = np.random.randn(1000, 100)\n",
    "node_num = 100                  # 隐藏层节点数\n",
    "hidden_layer_size = 5           # 隐藏层层数\n",
    "activation = {}                 # 激活值保存\n",
    "\n",
    "for i in range(hidden_layer_size):\n",
    "    if i != 0:\n",
    "        x = activation[i-1]     # 如果不是第0层，则x为上一层的激活值\n",
    "\n",
    "    w = np.random.randn(node_num, node_num) * 1  # 标准差为1的高斯分布\n",
    "    a = np.dot(x, w)\n",
    "    z = sigmoid(a)\n",
    "    activation[i] = z"
   ]
  },
  {
   "cell_type": "code",
   "execution_count": 14,
   "metadata": {},
   "outputs": [
    {
     "data": {
      "image/png": "[encoded data removed]",
      "text/plain": [
       "<Figure size 640x480 with 5 Axes>"
      ]
     },
     "metadata": {},
     "output_type": "display_data"
    }
   ],
   "source": [
    "# 直方图 - 梯度消失，表现力受限\n",
    "for i, z in activation.items():\n",
    "    plt.subplot(1, len(activation), i+1)\n",
    "    plt.title(f\"{i}-layer\")\n",
    "    if i != 0: plt.yticks([], [])\n",
    "    plt.ylim([0, 40000])\n",
    "    plt.hist(z.flatten(), 30, range=(0,1))\n",
    "plt.show()\n",
    "# 大多数的激活值分布在0和1处，此时梯度非常小，意味着很多神经元学不到东西"
   ]
  },
  {
   "cell_type": "code",
   "execution_count": 18,
   "metadata": {},
   "outputs": [
    {
     "data": {
      "image/png": "[encoded data removed]",
      "text/plain": [
       "<Figure size 640x480 with 5 Axes>"
      ]
     },
     "metadata": {},
     "output_type": "display_data"
    }
   ],
   "source": [
    "# 通过Xavier提出的标准差改善sigmoid梯度消失\n",
    "for i in range(hidden_layer_size):\n",
    "    if i != 0:\n",
    "        x = activation[i-1]     # 如果不是第0层，则x为上一层的激活值\n",
    "\n",
    "    w = np.random.randn(node_num, node_num) / np.sqrt(node_num)  # 标准差为1的高斯分布\n",
    "    a = np.dot(x, w)\n",
    "    z = sigmoid(a)\n",
    "    activation[i] = z\n",
    "for i, z in activation.items():\n",
    "    plt.subplot(1, len(activation), i+1)\n",
    "    plt.title(f\"{i}-layer\")\n",
    "    if i != 0: plt.yticks([], [])\n",
    "    plt.ylim([0, 20000])\n",
    "    plt.hist(z.flatten(), 30, range=(0,1))\n",
    "plt.show()"
   ]
  }
 ],
 "metadata": {
  "kernelspec": {
   "display_name": "ml_torch",
   "language": "python",
   "name": "python3"
  },
  "language_info": {
   "codemirror_mode": {
    "name": "ipython",
    "version": 3
   },
   "file_extension": ".py",
   "mimetype": "text/x-python",
   "name": "python",
   "nbconvert_exporter": "python",
   "pygments_lexer": "ipython3",
   "version": "3.9.19"
  }
 },
 "nbformat": 4,
 "nbformat_minor": 2
}
